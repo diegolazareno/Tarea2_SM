{
 "cells": [
  {
   "cell_type": "markdown",
   "metadata": {},
   "source": [
    "# La importancia de Python"
   ]
  },
  {
   "cell_type": "markdown",
   "metadata": {},
   "source": [
    "## [¿Lenguaje de programación del año? Python se destaca en los últimos rankings](https://www.zdnet.com/article/programming-language-of-the-year-python-is-standout-in-latest-rankings/)"
   ]
  },
  {
   "cell_type": "markdown",
   "metadata": {},
   "source": [
    "Justo este año, en el mes de septiembre, **Python entró en el top 3 de lenguajes de programación en el *índice Tiobe***. Tal logro se debe a su creciente uso en diversos campos como: \n",
    "+ **El análisis estadístico**. \n",
    "+ **La inteligencia artificial**.\n",
    "+ **El cómputo científico**. \n",
    "\n",
    "Además, cabe resaltar que **el lenguaje es el más popular entre los hackers**, sobre todo por su sintaxis, que es fácil de entender; y su gran repertorio de librerías que pueden ser modificadas para usos poco éticos.\n",
    "\n",
    "*Python fue desarrollado por un programador alemán, Guido van Rossum, en 1989*, y es claro que desde esa fecha su popularidad va en ascenso; habiendo ya una tercera versión que será la única con soporte para el 2020. Otros lenguajes que van ganando terreno en el índice Tiobe son **Matlab y Julia**."
   ]
  },
  {
   "cell_type": "markdown",
   "metadata": {},
   "source": []
  }
 ],
 "metadata": {
  "kernelspec": {
   "display_name": "Python 3",
   "language": "python",
   "name": "python3"
  },
  "language_info": {
   "codemirror_mode": {
    "name": "ipython",
    "version": 3
   },
   "file_extension": ".py",
   "mimetype": "text/x-python",
   "name": "python",
   "nbconvert_exporter": "python",
   "pygments_lexer": "ipython3",
   "version": "3.7.1"
  }
 },
 "nbformat": 4,
 "nbformat_minor": 2
}
