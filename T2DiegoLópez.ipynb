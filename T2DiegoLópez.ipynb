{
 "cells": [
  {
   "cell_type": "markdown",
   "metadata": {},
   "source": [
    "# La importancia de Python"
   ]
  },
  {
   "cell_type": "markdown",
   "metadata": {},
   "source": [
    "## [¿Lenguaje de programación del año? Python se destaca en los últimos rankings](https://www.zdnet.com/article/programming-language-of-the-year-python-is-standout-in-latest-rankings/)"
   ]
  },
  {
   "cell_type": "markdown",
   "metadata": {},
   "source": [
    "Justo este año, en el mes de septiembre, **Python entró en el top 3 de lenguajes de programación en el *índice Tiobe***. Tal logro se debe a su creciente uso en diversos campos como: \n",
    "+ **El análisis estadístico**. \n",
    "+ **La inteligencia artificial**.\n",
    "+ **El cómputo científico**. \n",
    "\n",
    "Además, cabe resaltar que **el lenguaje es el más popular entre los hackers**, sobre todo por su sintaxis, que es fácil de entender; y su gran repertorio de librerías que pueden ser modificadas para usos poco éticos.\n",
    "\n",
    "*Python fue desarrollado por un programador alemán, Guido van Rossum, en 1989*, y es claro que desde esa fecha su popularidad va en ascenso; habiendo ya una tercera versión que será la única con soporte para el 2020. Otros lenguajes que van ganando terreno en el índice Tiobe son **Matlab y Julia**."
   ]
  },
  {
   "cell_type": "markdown",
   "metadata": {},
   "source": [
    "# [Python se está convirtiendo en el lenguaje de programación más popular del mundo](https://www.economist.com/graphic-detail/2018/07/26/python-is-becoming-the-worlds-most-popular-coding-language)"
   ]
  },
  {
   "cell_type": "markdown",
   "metadata": {},
   "source": [
    "> Ciertamente no me propuse a crear un lenguaje destinado al consumo masivo. **(Guido van Rossum, científico de la computación)**.\n",
    "\n",
    "*La simplicidad y versatilidad del lenguaje Python lo han llevado a triplicar su número de búsquedas por usuarios en Google desde el 2010*, incluso por encima de Kim Kardashian. Ambos atributos son muy aprovechados por sus practicantes, **los Pythonistas**, quienes **han subido a la red cerca de 145,000 librerías** que ayudan desde el *desarrollo de videojuegos hasta el análisis de datos para la astronomía*.\n",
    "\n",
    "Parece que **Python es un gran imperio** cuya supremacía volverá obsoletos a los otros lenguajes. Tan sólo basta mencionar que **la CIA lo ha empleado para hackeos, Google para el desarrollo web y Pixar para la producción de películas**. Pero no hablemos muy pronto, pues otros lenguajes, como *C o Java, no desaparecerán así de fácil*; ya que estos dan al usuario más control sobre lo que ocurre en el procesador de la computadora. "
   ]
  }
 ],
 "metadata": {
  "kernelspec": {
   "display_name": "Python 3",
   "language": "python",
   "name": "python3"
  },
  "language_info": {
   "codemirror_mode": {
    "name": "ipython",
    "version": 3
   },
   "file_extension": ".py",
   "mimetype": "text/x-python",
   "name": "python",
   "nbconvert_exporter": "python",
   "pygments_lexer": "ipython3",
   "version": "3.7.1"
  }
 },
 "nbformat": 4,
 "nbformat_minor": 2
}
